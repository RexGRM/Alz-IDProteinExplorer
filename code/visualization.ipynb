{
 "cells": [
  {
   "cell_type": "code",
   "execution_count": 23,
   "id": "b47f4865",
   "metadata": {},
   "outputs": [],
   "source": [
    "import numpy as np\n",
    "import matplotlib.pyplot as plt\n",
    "import nglview as nv\n",
    "import pandas as pd\n",
    "import math \n",
    "import colorsys\n",
    "import matplotlib as mpl\n",
    "import matplotlib.cm as cm\n",
    "import argparse\n",
    "from nglview.contrib.movie import MovieMaker\n"
   ]
  },
  {
   "cell_type": "code",
   "execution_count": 24,
   "id": "455538ba",
   "metadata": {},
   "outputs": [],
   "source": [
    "'''task number 4'''\n",
    "def get_charge(s, ph):\n",
    "    \n",
    "    '''\n",
    "    \n",
    "    input:the amino acid residue;the ph of environment\n",
    "    output: the charge of the amino acid\n",
    "    description: calculate the charge of the corresponding amino acid\n",
    "    '''\n",
    "    #pka = pd.read_csv(\"pka_pi_aa.csv\")\n",
    "    # convert all the amino acids to charges\n",
    "    \n",
    "    #pka_dict = df.set_index('Abr').to_dict()['pI']\n",
    "    #this might need testing\n",
    "    \n",
    "    pka_dict = {\n",
    "    \"ALA\": 6.01,\n",
    "    \"ARG\": 10.76,\n",
    "    \"ASN\": 5.41,\n",
    "    \"ASP\": 2.77,\n",
    "    \"CYS\": 5.07,\n",
    "    \"GLN\": 5.65,\n",
    "    \"GLU\": 3.22,\n",
    "    \"GLY\": 6.06,\n",
    "    \"HIS\": 7.64,\n",
    "    \"ILE\": 6.05,\n",
    "    \"LEU\": 6.01,\n",
    "    \"LYS\": 9.74,\n",
    "    \"MET\": 5.74,\n",
    "    \"PHE\": 5.48,\n",
    "    \"PRO\": 6.30,\n",
    "    \"SER\": 5.68,\n",
    "    \"THR\": 5.60,\n",
    "    \"TRP\": 5.89,\n",
    "    \"TYR\": 5.66,\n",
    "    \"VAL\": 5.96\n",
    "    }\n",
    "    \n",
    "    if pka_dict[s]>ph:\n",
    "        return 1*((10**(ph-pka_dict[s]))/((10**(ph-pka_dict[s]))+1))\n",
    "    else:\n",
    "        return -1*((10**(ph-pka_dict[s]))/((10**(ph-pka_dict[s]))+1))\n",
    "        \n",
    "   # you need to output all the amino acids using their PIs instead of just the charges \n"
   ]
  },
  {
   "cell_type": "code",
   "execution_count": 25,
   "id": "199abd32",
   "metadata": {},
   "outputs": [],
   "source": [
    "def disorder_percentage(dis):\n",
    "    dis+=0.884\n",
    "    return ((100/1.871)*dis)/100\n",
    "\n",
    "def plasma_color(percent):\n",
    "    cmap = cm.get_cmap('plasma')\n",
    "    color = cmap(percent)\n",
    "    rgb_color = color[:3]\n",
    "    red_hex = (int)(color[0]*255)\n",
    "    green_hex = (int)(color[1]*255)\n",
    "    blue_hex = (int)(color[2]*255)\n",
    "    return \"#{:02x}{:02x}{:02x}\".format(red_hex, green_hex, blue_hex)    "
   ]
  },
  {
   "cell_type": "code",
   "execution_count": 26,
   "id": "f4471806",
   "metadata": {},
   "outputs": [
    {
     "name": "stdout",
     "output_type": "stream",
     "text": [
      "#dddcdb\n"
     ]
    }
   ],
   "source": [
    "def charge_percentage(dis):\n",
    "    dis+=1\n",
    "    return ((100/2)*dis)/100\n",
    "\n",
    "def RdYIBu_color(percent):\n",
    "    cmap = cm.get_cmap('coolwarm')\n",
    "    color = cmap(percent)\n",
    "    rgb_color = color[:3]\n",
    "    red_hex = (int)(color[0]*255)\n",
    "    green_hex = (int)(color[1]*255)\n",
    "    blue_hex = (int)(color[2]*255)\n",
    "    return \"#{:02x}{:02x}{:02x}\".format(red_hex, green_hex, blue_hex)\n",
    "\n",
    "print (RdYIBu_color(0.5))"
   ]
  },
  {
   "cell_type": "code",
   "execution_count": 5,
   "id": "c89bf75c",
   "metadata": {},
   "outputs": [
    {
     "data": {
      "application/vnd.jupyter.widget-view+json": {
       "model_id": "933983889b2a4b9bae6800abfb3e072a",
       "version_major": 2,
       "version_minor": 0
      },
      "text/plain": [
       "NGLWidget()"
      ]
     },
     "metadata": {},
     "output_type": "display_data"
    }
   ],
   "source": [
    "def visual(pdb_file):    \n",
    "    view = nv.show_structure_file(pdb_file)\n",
    "    view.download_image()\n",
    "    return view\n",
    "\n",
    "visual(\"tau.pdb\")"
   ]
  },
  {
   "cell_type": "code",
   "execution_count": 27,
   "id": "33a1e44d",
   "metadata": {},
   "outputs": [
    {
     "data": {
      "application/vnd.jupyter.widget-view+json": {
       "model_id": "fa69a6f8e491470dbc2dae61bddebbb8",
       "version_major": 2,
       "version_minor": 0
      },
      "text/plain": [
       "NGLWidget()"
      ]
     },
     "metadata": {},
     "output_type": "display_data"
    }
   ],
   "source": [
    "def visualization_hydro(pdb_file):    \n",
    "    view = nv.show_structure_file(pdb_file)\n",
    "    view.add_spacefill(colorScheme = \"hydrophobicity\")\n",
    "    view.download_image(filename='hydro.png',factor=15)\n",
    "    return view\n",
    "\n",
    "visualization_hydro(\"hnRNPA1.pdb\")"
   ]
  },
  {
   "cell_type": "code",
   "execution_count": 28,
   "id": "3eca6f48",
   "metadata": {},
   "outputs": [
    {
     "data": {
      "application/vnd.jupyter.widget-view+json": {
       "model_id": "385356d342b0475bb7a1840a38d16ec8",
       "version_major": 2,
       "version_minor": 0
      },
      "text/plain": [
       "NGLWidget()"
      ]
     },
     "metadata": {},
     "output_type": "display_data"
    }
   ],
   "source": [
    "def visualization_charge(pdb_file):\n",
    "    view = nv.show_structure_file(pdb_file)\n",
    "    amino_acids = ['ALA', 'ARG', 'ASN', 'ASP', 'CYS', 'GLN', 'GLU', 'GLY', 'HIS', 'ILE', 'LEU', 'LYS', 'MET', 'PHE', 'PRO', 'SER', 'THR', 'TRP', 'TYR', 'VAL']\n",
    "    for i in range(20):\n",
    "        res_charge = get_charge(amino_acids[i],7.4)\n",
    "        cur_percent = charge_percentage(res_charge)\n",
    "        view.add_spacefill(amino_acids[i], color= RdYIBu_color(cur_percent))\n",
    "    view.download_image(filename='charge.png',factor=15)    \n",
    "    return view\n",
    "\n",
    "visualization_charge(\"hnRNPA1.pdb\")"
   ]
  },
  {
   "cell_type": "code",
   "execution_count": 29,
   "id": "5ad72402",
   "metadata": {
    "scrolled": true
   },
   "outputs": [
    {
     "data": {
      "application/vnd.jupyter.widget-view+json": {
       "model_id": "9e6f66163bcc4e40bf77403dac3b46d4",
       "version_major": 2,
       "version_minor": 0
      },
      "text/plain": [
       "NGLWidget()"
      ]
     },
     "metadata": {},
     "output_type": "display_data"
    }
   ],
   "source": [
    "def visualization_disorderness(pdb_file):\n",
    "    view = nv.show_structure_file(pdb_file)\n",
    "    disorder_dict = {'GLY': 0.166, 'ALA': 0.06, 'VAL': -0.121, 'LEU': -0.326, 'ILE': -0.486, 'PHE': -0.697, 'TYR': -0.51, 'TRP': -0.884,\n",
    "                     'MET': -0.397, 'PRO': 0.987,\n",
    "                     'CYS': 0.02, 'SER': 0.341, 'THR': 0.059, 'ASN': 0.007, 'GLN': 0.318, 'ASP': 0.192, 'GLU': 0.736, 'LYS': 0.586,\n",
    "                     'ARG': 0.180, 'HIS': 0.303}\n",
    "    three_letters = ['ALA', 'ARG', 'ASN', 'ASP', 'CYS', 'GLN', 'GLU', 'GLY', 'HIS', 'ILE', 'LEU', 'LYS', 'MET', 'PHE', 'PRO', 'SER', 'THR', 'TRP', 'TYR', 'VAL']\n",
    "    for i in range(20):\n",
    "        residue = three_letters[i]\n",
    "        cur_percentage = disorder_percentage(disorder_dict[residue])\n",
    "        view.add_spacefill(residue, color= plasma_color(cur_percentage))\n",
    "    view.download_image(filename='disorderness.png',factor=15) \n",
    "    return view\n",
    "\n",
    "visualization_disorderness(\"tia1.pdb\")"
   ]
  },
  {
   "cell_type": "code",
   "execution_count": 30,
   "id": "7358e34d",
   "metadata": {},
   "outputs": [
    {
     "data": {
      "application/vnd.jupyter.widget-view+json": {
       "model_id": "bc369e9283fa431db76787638683211c",
       "version_major": 2,
       "version_minor": 0
      },
      "text/plain": [
       "NGLWidget()"
      ]
     },
     "metadata": {},
     "output_type": "display_data"
    }
   ],
   "source": [
    "\n",
    "def parse_input():\n",
    "    parser = argparse.ArgumentParser(description=\"Parse pH level and PDB file path\")\n",
    "    parser.add_argument('-pdb', '--pdb_file',required=False, default=\"tau.pdb\" ,type=str, help='path to the input pdb file')\n",
    "    parser.add_argument('-f', required=False)\n",
    "    \n",
    "    return parser.parse_args()\n",
    "\n",
    "# Example usage\n",
    "args = parse_input()\n",
    "p_path = args.pdb_file\n",
    "visual(p_path)\n",
    "visualization_hydro(p_path)\n",
    "visualization_charge(p_path)\n",
    "\n",
    "\n"
   ]
  },
  {
   "cell_type": "code",
   "execution_count": null,
   "id": "b0d040e2",
   "metadata": {},
   "outputs": [],
   "source": []
  }
 ],
 "metadata": {
  "kernelspec": {
   "display_name": "Python 3 (ipykernel)",
   "language": "python",
   "name": "python3"
  },
  "language_info": {
   "codemirror_mode": {
    "name": "ipython",
    "version": 3
   },
   "file_extension": ".py",
   "mimetype": "text/x-python",
   "name": "python",
   "nbconvert_exporter": "python",
   "pygments_lexer": "ipython3",
   "version": "3.9.12"
  }
 },
 "nbformat": 4,
 "nbformat_minor": 5
}
